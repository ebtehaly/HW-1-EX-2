{
 "cells": [
  {
   "cell_type": "markdown",
   "id": "667fa6ef",
   "metadata": {},
   "source": [
    "HW 1 EX 2"
   ]
  },
  {
   "cell_type": "code",
   "execution_count": 1,
   "id": "246fe204",
   "metadata": {},
   "outputs": [
    {
     "name": "stdout",
     "output_type": "stream",
     "text": [
      "[10, 20, 30, 40, 50, 20, 40, 60, 80, 100, 30, 60, 90, 120, 150, 40, 80, 120, 160, 200, 50, 100, 150, 200, 250]\n"
     ]
    }
   ],
   "source": [
    "x = [10, 20, 30, 40, 50]\n",
    "y = [1, 2, 3, 4, 5]\n",
    "\n",
    "result = []\n",
    "for i in x:\n",
    "  for j in y:\n",
    "    result.append(i * j)\n",
    "\n",
    "print(result)"
   ]
  },
  {
   "cell_type": "code",
   "execution_count": 2,
   "id": "43cb639b",
   "metadata": {},
   "outputs": [],
   "source": [
    "# In this code, we have a nested loop where an object of list x is multiplied by every object in list y. \n",
    "# For every instance, the product is added to a new list, results.\n",
    "# After going through the entire list y, the next object in list x is assigned.\n",
    "# Loop continues till all x objects have been assigned.  "
   ]
  }
 ],
 "metadata": {
  "kernelspec": {
   "display_name": "Python 3",
   "language": "python",
   "name": "python3"
  },
  "language_info": {
   "codemirror_mode": {
    "name": "ipython",
    "version": 3
   },
   "file_extension": ".py",
   "mimetype": "text/x-python",
   "name": "python",
   "nbconvert_exporter": "python",
   "pygments_lexer": "ipython3",
   "version": "3.8.8"
  }
 },
 "nbformat": 4,
 "nbformat_minor": 5
}
